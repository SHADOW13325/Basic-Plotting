{
 "cells": [
  {
   "cell_type": "code",
   "execution_count": 1,
   "metadata": {},
   "outputs": [],
   "source": [
    "import pandas as pd"
   ]
  },
  {
   "cell_type": "code",
   "execution_count": 2,
   "metadata": {},
   "outputs": [],
   "source": [
    "df=pd.read_csv('/home/saumitra/Desktop/kaggle/parks.csv',index_col='Park Code')"
   ]
  },
  {
   "cell_type": "code",
   "execution_count": 3,
   "metadata": {},
   "outputs": [
    {
     "data": {
      "text/html": [
       "<div>\n",
       "<style scoped>\n",
       "    .dataframe tbody tr th:only-of-type {\n",
       "        vertical-align: middle;\n",
       "    }\n",
       "\n",
       "    .dataframe tbody tr th {\n",
       "        vertical-align: top;\n",
       "    }\n",
       "\n",
       "    .dataframe thead th {\n",
       "        text-align: right;\n",
       "    }\n",
       "</style>\n",
       "<table border=\"1\" class=\"dataframe\">\n",
       "  <thead>\n",
       "    <tr style=\"text-align: right;\">\n",
       "      <th></th>\n",
       "      <th>Park Name</th>\n",
       "      <th>State</th>\n",
       "      <th>Acres</th>\n",
       "      <th>Latitude</th>\n",
       "      <th>Longitude</th>\n",
       "    </tr>\n",
       "    <tr>\n",
       "      <th>Park Code</th>\n",
       "      <th></th>\n",
       "      <th></th>\n",
       "      <th></th>\n",
       "      <th></th>\n",
       "      <th></th>\n",
       "    </tr>\n",
       "  </thead>\n",
       "  <tbody>\n",
       "    <tr>\n",
       "      <th>ACAD</th>\n",
       "      <td>Acadia National Park</td>\n",
       "      <td>ME</td>\n",
       "      <td>47390</td>\n",
       "      <td>44.35</td>\n",
       "      <td>-68.21</td>\n",
       "    </tr>\n",
       "    <tr>\n",
       "      <th>ARCH</th>\n",
       "      <td>Arches National Park</td>\n",
       "      <td>UT</td>\n",
       "      <td>76519</td>\n",
       "      <td>38.68</td>\n",
       "      <td>-109.57</td>\n",
       "    </tr>\n",
       "    <tr>\n",
       "      <th>BADL</th>\n",
       "      <td>Badlands National Park</td>\n",
       "      <td>SD</td>\n",
       "      <td>242756</td>\n",
       "      <td>43.75</td>\n",
       "      <td>-102.50</td>\n",
       "    </tr>\n",
       "    <tr>\n",
       "      <th>BIBE</th>\n",
       "      <td>Big Bend National Park</td>\n",
       "      <td>TX</td>\n",
       "      <td>801163</td>\n",
       "      <td>29.25</td>\n",
       "      <td>-103.25</td>\n",
       "    </tr>\n",
       "    <tr>\n",
       "      <th>BISC</th>\n",
       "      <td>Biscayne National Park</td>\n",
       "      <td>FL</td>\n",
       "      <td>172924</td>\n",
       "      <td>25.65</td>\n",
       "      <td>-80.08</td>\n",
       "    </tr>\n",
       "  </tbody>\n",
       "</table>\n",
       "</div>"
      ],
      "text/plain": [
       "                        Park Name State   Acres  Latitude  Longitude\n",
       "Park Code                                                           \n",
       "ACAD         Acadia National Park    ME   47390     44.35     -68.21\n",
       "ARCH         Arches National Park    UT   76519     38.68    -109.57\n",
       "BADL       Badlands National Park    SD  242756     43.75    -102.50\n",
       "BIBE       Big Bend National Park    TX  801163     29.25    -103.25\n",
       "BISC       Biscayne National Park    FL  172924     25.65     -80.08"
      ]
     },
     "execution_count": 3,
     "metadata": {},
     "output_type": "execute_result"
    }
   ],
   "source": [
    "df.head()"
   ]
  },
  {
   "cell_type": "markdown",
   "metadata": {},
   "source": [
    "**Indexing rows**"
   ]
  },
  {
   "cell_type": "code",
   "execution_count": 4,
   "metadata": {},
   "outputs": [
    {
     "data": {
      "text/plain": [
       "Park Name    Badlands National Park\n",
       "State                            SD\n",
       "Acres                        242756\n",
       "Latitude                      43.75\n",
       "Longitude                    -102.5\n",
       "Name: BADL, dtype: object"
      ]
     },
     "execution_count": 4,
     "metadata": {},
     "output_type": "execute_result"
    }
   ],
   "source": [
    "#The simplest way to access a row is to pass the row number to the .iloc method. Note that first row is zero,\n",
    "#just like list indexes.\n",
    "df.iloc[2]"
   ]
  },
  {
   "cell_type": "code",
   "execution_count": 5,
   "metadata": {},
   "outputs": [
    {
     "data": {
      "text/plain": [
       "Park Name    Badlands National Park\n",
       "State                            SD\n",
       "Acres                        242756\n",
       "Latitude                      43.75\n",
       "Longitude                    -102.5\n",
       "Name: BADL, dtype: object"
      ]
     },
     "execution_count": 5,
     "metadata": {},
     "output_type": "execute_result"
    }
   ],
   "source": [
    "#The other main approach is to pass a value from your dataframe's index to the .loc method:\n",
    "df.loc['BADL']"
   ]
  },
  {
   "cell_type": "code",
   "execution_count": 6,
   "metadata": {},
   "outputs": [
    {
     "data": {
      "text/html": [
       "<div>\n",
       "<style scoped>\n",
       "    .dataframe tbody tr th:only-of-type {\n",
       "        vertical-align: middle;\n",
       "    }\n",
       "\n",
       "    .dataframe tbody tr th {\n",
       "        vertical-align: top;\n",
       "    }\n",
       "\n",
       "    .dataframe thead th {\n",
       "        text-align: right;\n",
       "    }\n",
       "</style>\n",
       "<table border=\"1\" class=\"dataframe\">\n",
       "  <thead>\n",
       "    <tr style=\"text-align: right;\">\n",
       "      <th></th>\n",
       "      <th>Park Name</th>\n",
       "      <th>State</th>\n",
       "      <th>Acres</th>\n",
       "      <th>Latitude</th>\n",
       "      <th>Longitude</th>\n",
       "    </tr>\n",
       "    <tr>\n",
       "      <th>Park Code</th>\n",
       "      <th></th>\n",
       "      <th></th>\n",
       "      <th></th>\n",
       "      <th></th>\n",
       "      <th></th>\n",
       "    </tr>\n",
       "  </thead>\n",
       "  <tbody>\n",
       "    <tr>\n",
       "      <th>BADL</th>\n",
       "      <td>Badlands National Park</td>\n",
       "      <td>SD</td>\n",
       "      <td>242756</td>\n",
       "      <td>43.75</td>\n",
       "      <td>-102.50</td>\n",
       "    </tr>\n",
       "    <tr>\n",
       "      <th>ARCH</th>\n",
       "      <td>Arches National Park</td>\n",
       "      <td>UT</td>\n",
       "      <td>76519</td>\n",
       "      <td>38.68</td>\n",
       "      <td>-109.57</td>\n",
       "    </tr>\n",
       "    <tr>\n",
       "      <th>ACAD</th>\n",
       "      <td>Acadia National Park</td>\n",
       "      <td>ME</td>\n",
       "      <td>47390</td>\n",
       "      <td>44.35</td>\n",
       "      <td>-68.21</td>\n",
       "    </tr>\n",
       "  </tbody>\n",
       "</table>\n",
       "</div>"
      ],
      "text/plain": [
       "                        Park Name State   Acres  Latitude  Longitude\n",
       "Park Code                                                           \n",
       "BADL       Badlands National Park    SD  242756     43.75    -102.50\n",
       "ARCH         Arches National Park    UT   76519     38.68    -109.57\n",
       "ACAD         Acadia National Park    ME   47390     44.35     -68.21"
      ]
     },
     "execution_count": 6,
     "metadata": {},
     "output_type": "execute_result"
    }
   ],
   "source": [
    "#Indexing multiple rows\n",
    "df.loc[['BADL', 'ARCH', 'ACAD']]"
   ]
  },
  {
   "cell_type": "code",
   "execution_count": 7,
   "metadata": {},
   "outputs": [
    {
     "data": {
      "text/html": [
       "<div>\n",
       "<style scoped>\n",
       "    .dataframe tbody tr th:only-of-type {\n",
       "        vertical-align: middle;\n",
       "    }\n",
       "\n",
       "    .dataframe tbody tr th {\n",
       "        vertical-align: top;\n",
       "    }\n",
       "\n",
       "    .dataframe thead th {\n",
       "        text-align: right;\n",
       "    }\n",
       "</style>\n",
       "<table border=\"1\" class=\"dataframe\">\n",
       "  <thead>\n",
       "    <tr style=\"text-align: right;\">\n",
       "      <th></th>\n",
       "      <th>Park Name</th>\n",
       "      <th>State</th>\n",
       "      <th>Acres</th>\n",
       "      <th>Latitude</th>\n",
       "      <th>Longitude</th>\n",
       "    </tr>\n",
       "    <tr>\n",
       "      <th>Park Code</th>\n",
       "      <th></th>\n",
       "      <th></th>\n",
       "      <th></th>\n",
       "      <th></th>\n",
       "      <th></th>\n",
       "    </tr>\n",
       "  </thead>\n",
       "  <tbody>\n",
       "    <tr>\n",
       "      <th>BADL</th>\n",
       "      <td>Badlands National Park</td>\n",
       "      <td>SD</td>\n",
       "      <td>242756</td>\n",
       "      <td>43.75</td>\n",
       "      <td>-102.50</td>\n",
       "    </tr>\n",
       "    <tr>\n",
       "      <th>ARCH</th>\n",
       "      <td>Arches National Park</td>\n",
       "      <td>UT</td>\n",
       "      <td>76519</td>\n",
       "      <td>38.68</td>\n",
       "      <td>-109.57</td>\n",
       "    </tr>\n",
       "    <tr>\n",
       "      <th>ACAD</th>\n",
       "      <td>Acadia National Park</td>\n",
       "      <td>ME</td>\n",
       "      <td>47390</td>\n",
       "      <td>44.35</td>\n",
       "      <td>-68.21</td>\n",
       "    </tr>\n",
       "  </tbody>\n",
       "</table>\n",
       "</div>"
      ],
      "text/plain": [
       "                        Park Name State   Acres  Latitude  Longitude\n",
       "Park Code                                                           \n",
       "BADL       Badlands National Park    SD  242756     43.75    -102.50\n",
       "ARCH         Arches National Park    UT   76519     38.68    -109.57\n",
       "ACAD         Acadia National Park    ME   47390     44.35     -68.21"
      ]
     },
     "execution_count": 7,
     "metadata": {},
     "output_type": "execute_result"
    }
   ],
   "source": [
    "df.iloc[[2,1,0]]"
   ]
  },
  {
   "cell_type": "code",
   "execution_count": 8,
   "metadata": {},
   "outputs": [
    {
     "data": {
      "text/html": [
       "<div>\n",
       "<style scoped>\n",
       "    .dataframe tbody tr th:only-of-type {\n",
       "        vertical-align: middle;\n",
       "    }\n",
       "\n",
       "    .dataframe tbody tr th {\n",
       "        vertical-align: top;\n",
       "    }\n",
       "\n",
       "    .dataframe thead th {\n",
       "        text-align: right;\n",
       "    }\n",
       "</style>\n",
       "<table border=\"1\" class=\"dataframe\">\n",
       "  <thead>\n",
       "    <tr style=\"text-align: right;\">\n",
       "      <th></th>\n",
       "      <th>Park Name</th>\n",
       "      <th>State</th>\n",
       "      <th>Acres</th>\n",
       "      <th>Latitude</th>\n",
       "      <th>Longitude</th>\n",
       "    </tr>\n",
       "    <tr>\n",
       "      <th>Park Code</th>\n",
       "      <th></th>\n",
       "      <th></th>\n",
       "      <th></th>\n",
       "      <th></th>\n",
       "      <th></th>\n",
       "    </tr>\n",
       "  </thead>\n",
       "  <tbody>\n",
       "    <tr>\n",
       "      <th>BISC</th>\n",
       "      <td>Biscayne National Park</td>\n",
       "      <td>FL</td>\n",
       "      <td>172924</td>\n",
       "      <td>25.65</td>\n",
       "      <td>-80.08</td>\n",
       "    </tr>\n",
       "    <tr>\n",
       "      <th>BLCA</th>\n",
       "      <td>Black Canyon of the Gunnison National Park</td>\n",
       "      <td>CO</td>\n",
       "      <td>32950</td>\n",
       "      <td>38.57</td>\n",
       "      <td>-107.72</td>\n",
       "    </tr>\n",
       "    <tr>\n",
       "      <th>BRCA</th>\n",
       "      <td>Bryce Canyon National Park</td>\n",
       "      <td>UT</td>\n",
       "      <td>35835</td>\n",
       "      <td>37.57</td>\n",
       "      <td>-112.18</td>\n",
       "    </tr>\n",
       "    <tr>\n",
       "      <th>CANY</th>\n",
       "      <td>Canyonlands National Park</td>\n",
       "      <td>UT</td>\n",
       "      <td>337598</td>\n",
       "      <td>38.20</td>\n",
       "      <td>-109.93</td>\n",
       "    </tr>\n",
       "    <tr>\n",
       "      <th>CARE</th>\n",
       "      <td>Capitol Reef National Park</td>\n",
       "      <td>UT</td>\n",
       "      <td>241904</td>\n",
       "      <td>38.20</td>\n",
       "      <td>-111.17</td>\n",
       "    </tr>\n",
       "    <tr>\n",
       "      <th>CAVE</th>\n",
       "      <td>Carlsbad Caverns National Park</td>\n",
       "      <td>NM</td>\n",
       "      <td>46766</td>\n",
       "      <td>32.17</td>\n",
       "      <td>-104.44</td>\n",
       "    </tr>\n",
       "  </tbody>\n",
       "</table>\n",
       "</div>"
      ],
      "text/plain": [
       "                                            Park Name State   Acres  Latitude  \\\n",
       "Park Code                                                                       \n",
       "BISC                           Biscayne National Park    FL  172924     25.65   \n",
       "BLCA       Black Canyon of the Gunnison National Park    CO   32950     38.57   \n",
       "BRCA                       Bryce Canyon National Park    UT   35835     37.57   \n",
       "CANY                        Canyonlands National Park    UT  337598     38.20   \n",
       "CARE                       Capitol Reef National Park    UT  241904     38.20   \n",
       "CAVE                   Carlsbad Caverns National Park    NM   46766     32.17   \n",
       "\n",
       "           Longitude  \n",
       "Park Code             \n",
       "BISC          -80.08  \n",
       "BLCA         -107.72  \n",
       "BRCA         -112.18  \n",
       "CANY         -109.93  \n",
       "CARE         -111.17  \n",
       "CAVE         -104.44  "
      ]
     },
     "execution_count": 8,
     "metadata": {},
     "output_type": "execute_result"
    }
   ],
   "source": [
    "df.iloc[4:10]"
   ]
  },
  {
   "cell_type": "markdown",
   "metadata": {},
   "source": [
    "**Indexing columns**"
   ]
  },
  {
   "cell_type": "code",
   "execution_count": 9,
   "metadata": {},
   "outputs": [
    {
     "data": {
      "text/plain": [
       "Park Code\n",
       "ACAD    ME\n",
       "ARCH    UT\n",
       "BADL    SD\n",
       "Name: State, dtype: object"
      ]
     },
     "execution_count": 9,
     "metadata": {},
     "output_type": "execute_result"
    }
   ],
   "source": [
    "df['State'].head(3)"
   ]
  },
  {
   "cell_type": "markdown",
   "metadata": {},
   "source": [
    "You can also access a single column as if it were an attribute of the dataframe, but only if the name has no \n",
    "spaces, uses only basic characters, and doesn't share a name with a dataframe method. So, df.State works:"
   ]
  },
  {
   "cell_type": "code",
   "execution_count": 10,
   "metadata": {},
   "outputs": [
    {
     "data": {
      "text/plain": [
       "Park Code\n",
       "ACAD    ME\n",
       "ARCH    UT\n",
       "BADL    SD\n",
       "Name: State, dtype: object"
      ]
     },
     "execution_count": 10,
     "metadata": {},
     "output_type": "execute_result"
    }
   ],
   "source": [
    "df.State.head(3)"
   ]
  },
  {
   "cell_type": "code",
   "execution_count": 11,
   "metadata": {},
   "outputs": [
    {
     "ename": "SyntaxError",
     "evalue": "invalid syntax (<ipython-input-11-50f813f3f9f8>, line 2)",
     "output_type": "error",
     "traceback": [
      "\u001b[0;36m  File \u001b[0;32m\"<ipython-input-11-50f813f3f9f8>\"\u001b[0;36m, line \u001b[0;32m2\u001b[0m\n\u001b[0;31m    df.Park Code.head(3)\u001b[0m\n\u001b[0m               ^\u001b[0m\n\u001b[0;31mSyntaxError\u001b[0m\u001b[0;31m:\u001b[0m invalid syntax\n"
     ]
    }
   ],
   "source": [
    "#but Park Code fails\n",
    "df.Park Code.head(3)"
   ]
  },
  {
   "cell_type": "markdown",
   "metadata": {},
   "source": [
    "It's a good practice to clean your column names to prevent this sort of error. I'll use a very short cleaning\n",
    "function here since the names don't have any odd characters. By convention, the names should also be converted \n",
    "to lower case. Pandas is case sensitive, so future calls to all of the columns will need to be updated."
   ]
  },
  {
   "cell_type": "code",
   "execution_count": 12,
   "metadata": {},
   "outputs": [
    {
     "data": {
      "text/plain": [
       "Index(['park_name', 'state', 'acres', 'latitude', 'longitude'], dtype='object')"
      ]
     },
     "execution_count": 12,
     "metadata": {},
     "output_type": "execute_result"
    }
   ],
   "source": [
    "df.columns = [col.replace(' ' , '_').lower() for col in df.columns]\n",
    "df.columns"
   ]
  },
  {
   "cell_type": "code",
   "execution_count": 13,
   "metadata": {},
   "outputs": [
    {
     "data": {
      "text/html": [
       "<div>\n",
       "<style scoped>\n",
       "    .dataframe tbody tr th:only-of-type {\n",
       "        vertical-align: middle;\n",
       "    }\n",
       "\n",
       "    .dataframe tbody tr th {\n",
       "        vertical-align: top;\n",
       "    }\n",
       "\n",
       "    .dataframe thead th {\n",
       "        text-align: right;\n",
       "    }\n",
       "</style>\n",
       "<table border=\"1\" class=\"dataframe\">\n",
       "  <thead>\n",
       "    <tr style=\"text-align: right;\">\n",
       "      <th></th>\n",
       "      <th>state</th>\n",
       "      <th>acres</th>\n",
       "    </tr>\n",
       "    <tr>\n",
       "      <th>Park Code</th>\n",
       "      <th></th>\n",
       "      <th></th>\n",
       "    </tr>\n",
       "  </thead>\n",
       "  <tbody>\n",
       "    <tr>\n",
       "      <th>BIBE</th>\n",
       "      <td>TX</td>\n",
       "      <td>801163</td>\n",
       "    </tr>\n",
       "    <tr>\n",
       "      <th>BISC</th>\n",
       "      <td>FL</td>\n",
       "      <td>172924</td>\n",
       "    </tr>\n",
       "    <tr>\n",
       "      <th>BLCA</th>\n",
       "      <td>CO</td>\n",
       "      <td>32950</td>\n",
       "    </tr>\n",
       "    <tr>\n",
       "      <th>BRCA</th>\n",
       "      <td>UT</td>\n",
       "      <td>35835</td>\n",
       "    </tr>\n",
       "  </tbody>\n",
       "</table>\n",
       "</div>"
      ],
      "text/plain": [
       "          state   acres\n",
       "Park Code              \n",
       "BIBE         TX  801163\n",
       "BISC         FL  172924\n",
       "BLCA         CO   32950\n",
       "BRCA         UT   35835"
      ]
     },
     "execution_count": 13,
     "metadata": {},
     "output_type": "execute_result"
    }
   ],
   "source": [
    "#indexing columns and rows\n",
    "df[['state','acres']][3:7]"
   ]
  },
  {
   "cell_type": "markdown",
   "metadata": {},
   "source": [
    "indexing scalar values"
   ]
  },
  {
   "cell_type": "code",
   "execution_count": 14,
   "metadata": {},
   "outputs": [
    {
     "data": {
      "text/plain": [
       "Park Code\n",
       "BADL    SD\n",
       "Name: state, dtype: object"
      ]
     },
     "execution_count": 14,
     "metadata": {},
     "output_type": "execute_result"
    }
   ],
   "source": [
    "df.state.iloc[[2]]"
   ]
  },
  {
   "cell_type": "code",
   "execution_count": 15,
   "metadata": {},
   "outputs": [
    {
     "data": {
      "text/plain": [
       "'SD'"
      ]
     },
     "execution_count": 15,
     "metadata": {},
     "output_type": "execute_result"
    }
   ],
   "source": [
    "df.state.iloc[2]"
   ]
  },
  {
   "cell_type": "markdown",
   "metadata": {},
   "source": [
    "subsetting"
   ]
  },
  {
   "cell_type": "code",
   "execution_count": 16,
   "metadata": {},
   "outputs": [
    {
     "data": {
      "text/plain": [
       "Park Code\n",
       "ACAD    False\n",
       "ARCH     True\n",
       "BADL    False\n",
       "BIBE    False\n",
       "BISC    False\n",
       "Name: state, dtype: bool"
      ]
     },
     "execution_count": 16,
     "metadata": {},
     "output_type": "execute_result"
    }
   ],
   "source": [
    "(df.state=='UT').head(5)"
   ]
  },
  {
   "cell_type": "code",
   "execution_count": 17,
   "metadata": {},
   "outputs": [
    {
     "data": {
      "text/html": [
       "<div>\n",
       "<style scoped>\n",
       "    .dataframe tbody tr th:only-of-type {\n",
       "        vertical-align: middle;\n",
       "    }\n",
       "\n",
       "    .dataframe tbody tr th {\n",
       "        vertical-align: top;\n",
       "    }\n",
       "\n",
       "    .dataframe thead th {\n",
       "        text-align: right;\n",
       "    }\n",
       "</style>\n",
       "<table border=\"1\" class=\"dataframe\">\n",
       "  <thead>\n",
       "    <tr style=\"text-align: right;\">\n",
       "      <th></th>\n",
       "      <th>park_name</th>\n",
       "      <th>state</th>\n",
       "      <th>acres</th>\n",
       "      <th>latitude</th>\n",
       "      <th>longitude</th>\n",
       "    </tr>\n",
       "    <tr>\n",
       "      <th>Park Code</th>\n",
       "      <th></th>\n",
       "      <th></th>\n",
       "      <th></th>\n",
       "      <th></th>\n",
       "      <th></th>\n",
       "    </tr>\n",
       "  </thead>\n",
       "  <tbody>\n",
       "    <tr>\n",
       "      <th>ARCH</th>\n",
       "      <td>Arches National Park</td>\n",
       "      <td>UT</td>\n",
       "      <td>76519</td>\n",
       "      <td>38.68</td>\n",
       "      <td>-109.57</td>\n",
       "    </tr>\n",
       "    <tr>\n",
       "      <th>BRCA</th>\n",
       "      <td>Bryce Canyon National Park</td>\n",
       "      <td>UT</td>\n",
       "      <td>35835</td>\n",
       "      <td>37.57</td>\n",
       "      <td>-112.18</td>\n",
       "    </tr>\n",
       "    <tr>\n",
       "      <th>CANY</th>\n",
       "      <td>Canyonlands National Park</td>\n",
       "      <td>UT</td>\n",
       "      <td>337598</td>\n",
       "      <td>38.20</td>\n",
       "      <td>-109.93</td>\n",
       "    </tr>\n",
       "    <tr>\n",
       "      <th>CARE</th>\n",
       "      <td>Capitol Reef National Park</td>\n",
       "      <td>UT</td>\n",
       "      <td>241904</td>\n",
       "      <td>38.20</td>\n",
       "      <td>-111.17</td>\n",
       "    </tr>\n",
       "    <tr>\n",
       "      <th>ZION</th>\n",
       "      <td>Zion National Park</td>\n",
       "      <td>UT</td>\n",
       "      <td>146598</td>\n",
       "      <td>37.30</td>\n",
       "      <td>-113.05</td>\n",
       "    </tr>\n",
       "  </tbody>\n",
       "</table>\n",
       "</div>"
      ],
      "text/plain": [
       "                            park_name state   acres  latitude  longitude\n",
       "Park Code                                                               \n",
       "ARCH             Arches National Park    UT   76519     38.68    -109.57\n",
       "BRCA       Bryce Canyon National Park    UT   35835     37.57    -112.18\n",
       "CANY        Canyonlands National Park    UT  337598     38.20    -109.93\n",
       "CARE       Capitol Reef National Park    UT  241904     38.20    -111.17\n",
       "ZION               Zion National Park    UT  146598     37.30    -113.05"
      ]
     },
     "execution_count": 17,
     "metadata": {},
     "output_type": "execute_result"
    }
   ],
   "source": [
    "df[(df.state=='UT')]"
   ]
  },
  {
   "cell_type": "markdown",
   "metadata": {},
   "source": [
    "Some of the logical operators are different:\n",
    "\n",
    "1. ~ replaces not\n",
    "2. | replaces or\n",
    "3. & replaces and\n",
    ". If you have multiple arguments they'll need to be wrapped in parentheses. For example:"
   ]
  },
  {
   "cell_type": "code",
   "execution_count": 18,
   "metadata": {},
   "outputs": [
    {
     "data": {
      "text/html": [
       "<div>\n",
       "<style scoped>\n",
       "    .dataframe tbody tr th:only-of-type {\n",
       "        vertical-align: middle;\n",
       "    }\n",
       "\n",
       "    .dataframe tbody tr th {\n",
       "        vertical-align: top;\n",
       "    }\n",
       "\n",
       "    .dataframe thead th {\n",
       "        text-align: right;\n",
       "    }\n",
       "</style>\n",
       "<table border=\"1\" class=\"dataframe\">\n",
       "  <thead>\n",
       "    <tr style=\"text-align: right;\">\n",
       "      <th></th>\n",
       "      <th>park_name</th>\n",
       "      <th>state</th>\n",
       "      <th>acres</th>\n",
       "      <th>latitude</th>\n",
       "      <th>longitude</th>\n",
       "    </tr>\n",
       "    <tr>\n",
       "      <th>Park Code</th>\n",
       "      <th></th>\n",
       "      <th></th>\n",
       "      <th></th>\n",
       "      <th></th>\n",
       "      <th></th>\n",
       "    </tr>\n",
       "  </thead>\n",
       "  <tbody>\n",
       "    <tr>\n",
       "      <th>ACAD</th>\n",
       "      <td>Acadia National Park</td>\n",
       "      <td>ME</td>\n",
       "      <td>47390</td>\n",
       "      <td>44.35</td>\n",
       "      <td>-68.21</td>\n",
       "    </tr>\n",
       "    <tr>\n",
       "      <th>ARCH</th>\n",
       "      <td>Arches National Park</td>\n",
       "      <td>UT</td>\n",
       "      <td>76519</td>\n",
       "      <td>38.68</td>\n",
       "      <td>-109.57</td>\n",
       "    </tr>\n",
       "    <tr>\n",
       "      <th>BADL</th>\n",
       "      <td>Badlands National Park</td>\n",
       "      <td>SD</td>\n",
       "      <td>242756</td>\n",
       "      <td>43.75</td>\n",
       "      <td>-102.50</td>\n",
       "    </tr>\n",
       "    <tr>\n",
       "      <th>BLCA</th>\n",
       "      <td>Black Canyon of the Gunnison National Park</td>\n",
       "      <td>CO</td>\n",
       "      <td>32950</td>\n",
       "      <td>38.57</td>\n",
       "      <td>-107.72</td>\n",
       "    </tr>\n",
       "    <tr>\n",
       "      <th>BRCA</th>\n",
       "      <td>Bryce Canyon National Park</td>\n",
       "      <td>UT</td>\n",
       "      <td>35835</td>\n",
       "      <td>37.57</td>\n",
       "      <td>-112.18</td>\n",
       "    </tr>\n",
       "  </tbody>\n",
       "</table>\n",
       "</div>"
      ],
      "text/plain": [
       "                                            park_name state   acres  latitude  \\\n",
       "Park Code                                                                       \n",
       "ACAD                             Acadia National Park    ME   47390     44.35   \n",
       "ARCH                             Arches National Park    UT   76519     38.68   \n",
       "BADL                           Badlands National Park    SD  242756     43.75   \n",
       "BLCA       Black Canyon of the Gunnison National Park    CO   32950     38.57   \n",
       "BRCA                       Bryce Canyon National Park    UT   35835     37.57   \n",
       "\n",
       "           longitude  \n",
       "Park Code             \n",
       "ACAD          -68.21  \n",
       "ARCH         -109.57  \n",
       "BADL         -102.50  \n",
       "BLCA         -107.72  \n",
       "BRCA         -112.18  "
      ]
     },
     "execution_count": 18,
     "metadata": {},
     "output_type": "execute_result"
    }
   ],
   "source": [
    "df[(df.latitude>30) | (df.acres>10**6)].head(5)"
   ]
  },
  {
   "cell_type": "code",
   "execution_count": 19,
   "metadata": {},
   "outputs": [
    {
     "data": {
      "text/html": [
       "<div>\n",
       "<style scoped>\n",
       "    .dataframe tbody tr th:only-of-type {\n",
       "        vertical-align: middle;\n",
       "    }\n",
       "\n",
       "    .dataframe tbody tr th {\n",
       "        vertical-align: top;\n",
       "    }\n",
       "\n",
       "    .dataframe thead th {\n",
       "        text-align: right;\n",
       "    }\n",
       "</style>\n",
       "<table border=\"1\" class=\"dataframe\">\n",
       "  <thead>\n",
       "    <tr style=\"text-align: right;\">\n",
       "      <th></th>\n",
       "      <th>park_name</th>\n",
       "      <th>state</th>\n",
       "      <th>acres</th>\n",
       "      <th>latitude</th>\n",
       "      <th>longitude</th>\n",
       "    </tr>\n",
       "    <tr>\n",
       "      <th>Park Code</th>\n",
       "      <th></th>\n",
       "      <th></th>\n",
       "      <th></th>\n",
       "      <th></th>\n",
       "      <th></th>\n",
       "    </tr>\n",
       "  </thead>\n",
       "  <tbody>\n",
       "    <tr>\n",
       "      <th>ACAD</th>\n",
       "      <td>Acadia National Park</td>\n",
       "      <td>ME</td>\n",
       "      <td>47390</td>\n",
       "      <td>44.35</td>\n",
       "      <td>-68.21</td>\n",
       "    </tr>\n",
       "    <tr>\n",
       "      <th>ARCH</th>\n",
       "      <td>Arches National Park</td>\n",
       "      <td>UT</td>\n",
       "      <td>76519</td>\n",
       "      <td>38.68</td>\n",
       "      <td>-109.57</td>\n",
       "    </tr>\n",
       "    <tr>\n",
       "      <th>BADL</th>\n",
       "      <td>Badlands National Park</td>\n",
       "      <td>SD</td>\n",
       "      <td>242756</td>\n",
       "      <td>43.75</td>\n",
       "      <td>-102.50</td>\n",
       "    </tr>\n",
       "  </tbody>\n",
       "</table>\n",
       "</div>"
      ],
      "text/plain": [
       "                        park_name state   acres  latitude  longitude\n",
       "Park Code                                                           \n",
       "ACAD         Acadia National Park    ME   47390     44.35     -68.21\n",
       "ARCH         Arches National Park    UT   76519     38.68    -109.57\n",
       "BADL       Badlands National Park    SD  242756     43.75    -102.50"
      ]
     },
     "execution_count": 19,
     "metadata": {},
     "output_type": "execute_result"
    }
   ],
   "source": [
    "#can use complicated expressions including lambdas\n",
    "df[df.park_name.str.split().apply(lambda x: len(x)==3)].head(3)"
   ]
  },
  {
   "cell_type": "markdown",
   "metadata": {},
   "source": [
    "#Key Companion Methods: isin and isnull\n",
    "#These methods make it much easier and faster to perform some very common tasks. Suppose we wanted to find all parks\n",
    "#on the West coast. isin makes that simple:"
   ]
  },
  {
   "cell_type": "code",
   "execution_count": 20,
   "metadata": {},
   "outputs": [
    {
     "data": {
      "text/html": [
       "<div>\n",
       "<style scoped>\n",
       "    .dataframe tbody tr th:only-of-type {\n",
       "        vertical-align: middle;\n",
       "    }\n",
       "\n",
       "    .dataframe tbody tr th {\n",
       "        vertical-align: top;\n",
       "    }\n",
       "\n",
       "    .dataframe thead th {\n",
       "        text-align: right;\n",
       "    }\n",
       "</style>\n",
       "<table border=\"1\" class=\"dataframe\">\n",
       "  <thead>\n",
       "    <tr style=\"text-align: right;\">\n",
       "      <th></th>\n",
       "      <th>park_name</th>\n",
       "      <th>state</th>\n",
       "      <th>acres</th>\n",
       "      <th>latitude</th>\n",
       "      <th>longitude</th>\n",
       "    </tr>\n",
       "    <tr>\n",
       "      <th>Park Code</th>\n",
       "      <th></th>\n",
       "      <th></th>\n",
       "      <th></th>\n",
       "      <th></th>\n",
       "      <th></th>\n",
       "    </tr>\n",
       "  </thead>\n",
       "  <tbody>\n",
       "    <tr>\n",
       "      <th>CHIS</th>\n",
       "      <td>Channel Islands National Park</td>\n",
       "      <td>CA</td>\n",
       "      <td>249561</td>\n",
       "      <td>34.01</td>\n",
       "      <td>-119.42</td>\n",
       "    </tr>\n",
       "    <tr>\n",
       "      <th>CRLA</th>\n",
       "      <td>Crater Lake National Park</td>\n",
       "      <td>OR</td>\n",
       "      <td>183224</td>\n",
       "      <td>42.94</td>\n",
       "      <td>-122.10</td>\n",
       "    </tr>\n",
       "    <tr>\n",
       "      <th>JOTR</th>\n",
       "      <td>Joshua Tree National Park</td>\n",
       "      <td>CA</td>\n",
       "      <td>789745</td>\n",
       "      <td>33.79</td>\n",
       "      <td>-115.90</td>\n",
       "    </tr>\n",
       "    <tr>\n",
       "      <th>LAVO</th>\n",
       "      <td>Lassen Volcanic National Park</td>\n",
       "      <td>CA</td>\n",
       "      <td>106372</td>\n",
       "      <td>40.49</td>\n",
       "      <td>-121.51</td>\n",
       "    </tr>\n",
       "    <tr>\n",
       "      <th>MORA</th>\n",
       "      <td>Mount Rainier National Park</td>\n",
       "      <td>WA</td>\n",
       "      <td>235625</td>\n",
       "      <td>46.85</td>\n",
       "      <td>-121.75</td>\n",
       "    </tr>\n",
       "    <tr>\n",
       "      <th>NOCA</th>\n",
       "      <td>North Cascades National Park</td>\n",
       "      <td>WA</td>\n",
       "      <td>504781</td>\n",
       "      <td>48.70</td>\n",
       "      <td>-121.20</td>\n",
       "    </tr>\n",
       "    <tr>\n",
       "      <th>OLYM</th>\n",
       "      <td>Olympic National Park</td>\n",
       "      <td>WA</td>\n",
       "      <td>922651</td>\n",
       "      <td>47.97</td>\n",
       "      <td>-123.50</td>\n",
       "    </tr>\n",
       "    <tr>\n",
       "      <th>PINN</th>\n",
       "      <td>Pinnacles National Park</td>\n",
       "      <td>CA</td>\n",
       "      <td>26606</td>\n",
       "      <td>36.48</td>\n",
       "      <td>-121.16</td>\n",
       "    </tr>\n",
       "    <tr>\n",
       "      <th>REDW</th>\n",
       "      <td>Redwood National Park</td>\n",
       "      <td>CA</td>\n",
       "      <td>112512</td>\n",
       "      <td>41.30</td>\n",
       "      <td>-124.00</td>\n",
       "    </tr>\n",
       "    <tr>\n",
       "      <th>SEKI</th>\n",
       "      <td>Sequoia and Kings Canyon National Parks</td>\n",
       "      <td>CA</td>\n",
       "      <td>865952</td>\n",
       "      <td>36.43</td>\n",
       "      <td>-118.68</td>\n",
       "    </tr>\n",
       "    <tr>\n",
       "      <th>YOSE</th>\n",
       "      <td>Yosemite National Park</td>\n",
       "      <td>CA</td>\n",
       "      <td>761266</td>\n",
       "      <td>37.83</td>\n",
       "      <td>-119.50</td>\n",
       "    </tr>\n",
       "  </tbody>\n",
       "</table>\n",
       "</div>"
      ],
      "text/plain": [
       "                                         park_name state   acres  latitude  \\\n",
       "Park Code                                                                    \n",
       "CHIS                 Channel Islands National Park    CA  249561     34.01   \n",
       "CRLA                     Crater Lake National Park    OR  183224     42.94   \n",
       "JOTR                     Joshua Tree National Park    CA  789745     33.79   \n",
       "LAVO                 Lassen Volcanic National Park    CA  106372     40.49   \n",
       "MORA                   Mount Rainier National Park    WA  235625     46.85   \n",
       "NOCA                  North Cascades National Park    WA  504781     48.70   \n",
       "OLYM                         Olympic National Park    WA  922651     47.97   \n",
       "PINN                       Pinnacles National Park    CA   26606     36.48   \n",
       "REDW                         Redwood National Park    CA  112512     41.30   \n",
       "SEKI       Sequoia and Kings Canyon National Parks    CA  865952     36.43   \n",
       "YOSE                        Yosemite National Park    CA  761266     37.83   \n",
       "\n",
       "           longitude  \n",
       "Park Code             \n",
       "CHIS         -119.42  \n",
       "CRLA         -122.10  \n",
       "JOTR         -115.90  \n",
       "LAVO         -121.51  \n",
       "MORA         -121.75  \n",
       "NOCA         -121.20  \n",
       "OLYM         -123.50  \n",
       "PINN         -121.16  \n",
       "REDW         -124.00  \n",
       "SEKI         -118.68  \n",
       "YOSE         -119.50  "
      ]
     },
     "execution_count": 20,
     "metadata": {},
     "output_type": "execute_result"
    }
   ],
   "source": [
    "df[df.state.isin(['WA','OR','CA'])]"
   ]
  },
  {
   "cell_type": "markdown",
   "metadata": {},
   "source": [
    "#.at and .iat: like .loc and .iloc but much faster in exchange for only working on a single column and only returning a single result.\n",
    "#.get: like .loc, but will return a default value if the key doesn't exist in the index. Only works on a single column/series.\n",
    "#.take: equivalent to .iloc, but can operate on either rows or columns.\n",
    "#.query takes up a query like in SQL"
   ]
  },
  {
   "cell_type": "code",
   "execution_count": null,
   "metadata": {},
   "outputs": [],
   "source": []
  }
 ],
 "metadata": {
  "kernelspec": {
   "display_name": "Python 3",
   "language": "python",
   "name": "python3"
  },
  "language_info": {
   "codemirror_mode": {
    "name": "ipython",
    "version": 3
   },
   "file_extension": ".py",
   "mimetype": "text/x-python",
   "name": "python",
   "nbconvert_exporter": "python",
   "pygments_lexer": "ipython3",
   "version": "3.6.6"
  }
 },
 "nbformat": 4,
 "nbformat_minor": 2
}
